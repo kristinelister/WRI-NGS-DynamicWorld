{
 "cells": [
  {
   "cell_type": "code",
   "execution_count": 1,
   "metadata": {},
   "outputs": [],
   "source": [
    "import os\n",
    "import ee\n",
    "import ipyleaflet\n",
    "import matplotlib.pyplot as plt\n",
    "import numpy as np\n",
    "import sklearn\n",
    "import statsmodels.api as sm\n",
    "import pandas as pd\n",
    "from IPython.display import HTML, display\n",
    "import random\n",
    "import json\n",
    "num_seed=30\n",
    "random.seed(num_seed)"
   ]
  },
  {
   "cell_type": "code",
   "execution_count": 2,
   "metadata": {},
   "outputs": [],
   "source": [
    "#Define functions for mapping\n",
    "\n",
    "def GetTileLayerUrl(eeImage):\n",
    "    map_id = ee.Image(eeImage).getMapId()\n",
    "    tile_url_template = \"https://earthengine.googleapis.com/map/{mapid}/{{z}}/{{x}}/{{y}}?token={token}\"\n",
    "    return tile_url_template.format(**map_id)\n",
    "\n",
    "def TileLayer(eeImage, **kwargs):\n",
    "    return ipyleaflet.TileLayer(url=GetTileLayerUrl(eeImage), **kwargs)\n",
    "\n",
    "def Map(*args, **kwargs):\n",
    "    if not kwargs:\n",
    "        kwargs = {'center':(48.2, 16.3), 'zoom':2, 'layout':{'height':'200px'}}\n",
    "    Map = ipyleaflet.Map(*args, **kwargs)\n",
    "    Map.add_control(ipyleaflet.LayersControl())\n",
    "    return Map\n",
    "\n",
    "def flatten(imageCollection):\n",
    "    return ee.Image(\n",
    "        imageCollection.iterate(\n",
    "            lambda im, prev: ee.Image(prev).addBands(im), ee.Image()\n",
    "        )).slice(1)\n",
    "\n",
    "def rollback(image):\n",
    "    return image.addBands(image.select(0)).slice(1)\n",
    "\n",
    "def roll(image):\n",
    "    return image.slice(-1).addBands(image.slice(0,-1))\n",
    "\n",
    "def reindex(image, pfx='b'):\n",
    "    names = ee.List.sequence(0, count=image.bandNames().length()).map(\n",
    "        lambda i: ee.String(pfx).cat(ee.Number(i).format('%d'))\n",
    "    )\n",
    "    return image.rename(names)\n"
   ]
  },
  {
   "cell_type": "code",
   "execution_count": 3,
   "metadata": {},
   "outputs": [],
   "source": [
    "\n",
    "ee.Initialize()\n"
   ]
  },
  {
   "cell_type": "code",
   "execution_count": 4,
   "metadata": {},
   "outputs": [
    {
     "data": {
      "application/vnd.jupyter.widget-view+json": {
       "model_id": "9254521e8beb43a4bafbc27472730354",
       "version_major": 2,
       "version_minor": 0
      },
      "text/plain": [
       "Map(center=[-9, -51], controls=(ZoomControl(options=['position', 'zoom_in_text', 'zoom_in_title', 'zoom_out_te…"
      ]
     },
     "metadata": {},
     "output_type": "display_data"
    }
   ],
   "source": [
    "#Define functions for mapping MapBiomas and simplifying the legend\n",
    "coverage_palette =  ['ffffff', '129912', '1f4423', '006400', '00ff00', '687537', '76a5af', '29eee4', \n",
    "                     '77a605', '935132', 'bbfcac', '45c2a5', 'b8af4f', 'f1c232', 'ffffb2', 'ffd966', \n",
    "                     'f6b26b', 'f99f40', 'e974ed', 'd5a6bd', 'c27ba0', 'fff3bf', 'ea9999', 'dd7e6b', \n",
    "                     'aa0000', 'ff99ff', '0000ff', 'd5d5e5', 'dd497f', 'b2ae7c', 'af2a2a', '8a2be2', \n",
    "                     '968c46', '0000ff', '4fd3ff']\n",
    "\n",
    "\n",
    "simple_palette = ['129912','BBFCAC','FFFFB2','EA9999','0000FF','D5D5E5']\n",
    "statesViz = {'min': 0, 'max': 34, 'palette': coverage_palette};\n",
    "simpleStatesViz = {'min': 1, 'max': 6, 'palette': simple_palette};\n",
    "\n",
    "change_detection_palette = ['df07b5','0741df']\n",
    "changeDetectionViz = {'min': 0, 'max': 1, 'palette': change_detection_palette};\n",
    "\n",
    "\n",
    "mapbiomas_states=ee.Image('projects/mapbiomas-workspace/public/collection4_1/mapbiomas_collection41_integration_v1')\n",
    "states_mask = mapbiomas_states.mask()\n",
    "\n",
    "def simplify_legend(bandName):\n",
    "    simplify = mapbiomas_states.expression(\n",
    "        '(b0 >=1)  && (b0<10) ? 1 :'+\n",
    "        '((b0>=10) && (b0<14)) || (b0==32) || (b0==29) ? 2 :'+\n",
    "        '((b0>=18) && (b0<22)) || ((b0>=14)&&(b0<16)) ? 3 :'+\n",
    "        '((b0>=22) && (b0<26)) || (b0==30) ? 4 :'+\n",
    "        '(b0==26) || (b0==33) || (b0==31) ? 5 : 6', \n",
    "        {\n",
    "          'b0': mapbiomas_states.select([bandName])\n",
    "        })\n",
    "    simplify = simplify.select(['constant'],[bandName])\n",
    "    return simplify\n",
    "\n",
    "bandList = ['classification_1985', 'classification_1986', 'classification_1987', 'classification_1988', \n",
    "             'classification_1989', 'classification_1990', 'classification_1991', 'classification_1992', \n",
    "             'classification_1993', 'classification_1994', 'classification_1995', 'classification_1996', \n",
    "             'classification_1997', 'classification_1998', 'classification_1999', 'classification_2000', \n",
    "             'classification_2001', 'classification_2002', 'classification_2003', 'classification_2004', \n",
    "             'classification_2005', 'classification_2006', 'classification_2007', 'classification_2008', \n",
    "             'classification_2009', 'classification_2010', 'classification_2011', 'classification_2012', \n",
    "             'classification_2013', 'classification_2014', 'classification_2015', 'classification_2016', \n",
    "             'classification_2017', 'classification_2018']\n",
    "bandsEEList = ee.List(bandList) \n",
    "states_simple = ee.ImageCollection(bandsEEList.map(simplify_legend)).toBands()\n",
    "states_simple = states_simple.select(states_simple.bandNames(),bandsEEList)\n",
    "states_simple = states_simple.updateMask(states_mask)\n",
    "\n",
    "m = Map(zoom=4, center=(-9, -51))\n",
    "\n",
    "m.add_layer(TileLayer(mapbiomas_states.select('classification_2018').visualize(**statesViz), name='Original MapBiomas'))\n",
    "m.add_layer(TileLayer(states_simple.select('classification_2018').visualize(**simpleStatesViz), name='Simplified MapBiomas'))\n",
    "\n",
    "display(m)\n"
   ]
  },
  {
   "cell_type": "code",
   "execution_count": 5,
   "metadata": {},
   "outputs": [],
   "source": [
    "#Convert long band names to short band names\n",
    "intBandNames = ['1985', '1986', '1987', '1988', '1989', '1990', '1991', '1992', '1993', '1994', '1995', '1996', \n",
    "             '1997', '1998', '1999', '2000', '2001', '2002', '2003', '2004',  '2005', '2006', '2007', '2008', \n",
    "             '2009', '2010', '2011', '2012','2013', '2014', '2015', '2016', '2017', '2018']\n",
    "\n",
    "int_states_simple = states_simple.select(bandList,intBandNames)\n",
    "\n",
    "def convert_to_image_collection(bandName):\n",
    "    return states_simple.select(bandName)\n"
   ]
  },
  {
   "cell_type": "code",
   "execution_count": 6,
   "metadata": {},
   "outputs": [],
   "source": [
    "#Define functions for finding different types of change in the MapBiomas series\n",
    "def lc_one_change(bandName):\n",
    "    '''\n",
    "    Determines if there was one change occurance from year i to year i+1. Returns an image with values:\n",
    "    1 if state(i) != state(i+1)\n",
    "    0 if state(i) == state(i+1)\n",
    "    '''\n",
    "    currentYear = ee.Number(bandName)\n",
    "    nextYear = currentYear.add(ee.Number(1))\n",
    "    currentYearString = ee.List(intBandNames).get(currentYear)\n",
    "    nextYearString = ee.List(intBandNames).get(nextYear)\n",
    "    return int_states_simple.select([currentYearString]).neq(int_states_simple.select([nextYearString]))\n",
    "\n",
    "def lc_no_change(bandName):\n",
    "    '''\n",
    "    Determines if there was one change occurance from year i to year i+1. Returns an image with values:\n",
    "    1 if state(i) != state(i+1)\n",
    "    0 if state(i) == state(i+1)\n",
    "    '''\n",
    "    currentYear = ee.Number(bandName)\n",
    "    nextYear = currentYear.add(ee.Number(1))\n",
    "    currentYearString = ee.List(intBandNames).get(currentYear)\n",
    "    nextYearString = ee.List(intBandNames).get(nextYear)\n",
    "    return int_states_simple.select([currentYearString]).eq(int_states_simple.select([nextYearString]))\n",
    "\n",
    "\n",
    "def lc_reverse(bandName):\n",
    "    '''\n",
    "    Determines if change that occured from i to i+1 reversed back to state i in i+2\n",
    "    1 if state(i) != state(i+1) and state(i) == state(i+2)\n",
    "    0 otherwise\n",
    "    '''\n",
    "    currentYear = ee.Number(bandName)\n",
    "    nextYear = currentYear.add(ee.Number(1))\n",
    "    nextNextYear = currentYear.add(ee.Number(2))\n",
    "    \n",
    "    currentYearString = ee.List(intBandNames).get(currentYear)\n",
    "    nextYearString = ee.List(intBandNames).get(nextYear)\n",
    "    nextNextYearString = ee.List(intBandNames).get(nextNextYear)\n",
    "    \n",
    "    returnback = int_states_simple.select([currentYearString]).eq(int_states_simple.select([nextNextYearString]))\n",
    "    changed = int_states_simple.select([currentYearString]).neq(int_states_simple.select([nextYearString]))\n",
    "    lc_reversed = returnback.bitwise_and(changed)\n",
    "    return lc_reversed\n",
    "\n",
    "def lc_change_to_another(bandName):\n",
    "    '''\n",
    "    Determines if change that occured from i to i+1 reversed back to state i in i+2\n",
    "    1 if state(i) != state(i+1) and state(i) != state(i+2) and state(i+1) != state(i+2)\n",
    "    0 otherwise\n",
    "    '''\n",
    "    currentYear = ee.Number(bandName)\n",
    "    nextYear = currentYear.add(ee.Number(1))\n",
    "    nextNextYear = currentYear.add(ee.Number(2))\n",
    "    \n",
    "    currentYearString = ee.List(intBandNames).get(currentYear)\n",
    "    nextYearString = ee.List(intBandNames).get(nextYear)\n",
    "    nextNextYearString = ee.List(intBandNames).get(nextNextYear)\n",
    "    \n",
    "    changed = int_states_simple.select([currentYearString]).neq(int_states_simple.select([nextYearString]))\n",
    "    changed_again = int_states_simple.select([nextYearString]).neq(int_states_simple.select([nextNextYearString]))\n",
    "    not_reversed = int_states_simple.select([currentYearString]).neq(int_states_simple.select([nextNextYearString]))\n",
    "\n",
    "    lc_changed_to_another = changed.bitwise_and(changed_again.bitwise_and(not_reversed))\n",
    "    return lc_changed_to_another\n",
    "\n",
    "\n",
    "def lc_consistent_change_one_year(bandName):\n",
    "    '''\n",
    "    Determines if change that occured from i to i+1 stayed in i+2\n",
    "    1 if state(i) != state(i+1) and state(i+1) == state(i+2)\n",
    "    0 otherwise\n",
    "    '''\n",
    "    currentYear = ee.Number(bandName)\n",
    "    nextYear = currentYear.add(ee.Number(1))\n",
    "    nextNextYear = currentYear.add(ee.Number(2))\n",
    "    \n",
    "    currentYearString = ee.List(intBandNames).get(currentYear)\n",
    "    nextYearString = ee.List(intBandNames).get(nextYear)\n",
    "    nextNextYearString = ee.List(intBandNames).get(nextNextYear)\n",
    "    \n",
    "    changed = int_states_simple.select([currentYearString]).neq(int_states_simple.select([nextYearString]))\n",
    "    stayed = int_states_simple.select([nextYearString]).eq(int_states_simple.select([nextNextYearString]))\n",
    "    lc_consistently_changed = changed.bitwise_and(stayed)\n",
    "    return lc_consistently_changed\n",
    "\n",
    "def lc_consistent_change_two_years(bandName):\n",
    "    '''\n",
    "    Determines if change that occured from i to i+1 stayed in i+2 and i+3\n",
    "    1 if state(i) != state(i+1) and state(i+1) == state(i+2) and state(i+1) == state(i+3)\n",
    "    0 otherwise\n",
    "    '''\n",
    "    currentYear = ee.Number(bandName)\n",
    "    nextYear = currentYear.add(ee.Number(1))\n",
    "    nextNextYear = currentYear.add(ee.Number(2))\n",
    "    nextNextNextYear = currentYear.add(ee.Number(3))\n",
    "    \n",
    "    currentYearString = ee.List(intBandNames).get(currentYear)\n",
    "    nextYearString = ee.List(intBandNames).get(nextYear)\n",
    "    nextNextYearString = ee.List(intBandNames).get(nextNextYear)\n",
    "    nextNextNextYearString = ee.List(intBandNames).get(nextNextNextYear)\n",
    "    \n",
    "    changed = int_states_simple.select([currentYearString]).neq(int_states_simple.select([nextYearString]))\n",
    "    stayed_one_year = int_states_simple.select([nextYearString]).eq(int_states_simple.select([nextNextYearString]))\n",
    "    stayed_two_year = int_states_simple.select([nextYearString]).eq(int_states_simple.select([nextNextNextYearString]))\n",
    "    lc_consistently_changed = changed.bitwise_and(stayed_one_year.bitwise_and(stayed_two_year))\n",
    "    return lc_consistently_changed\n"
   ]
  },
  {
   "cell_type": "code",
   "execution_count": 7,
   "metadata": {},
   "outputs": [],
   "source": [
    "#Apply functions to MapBiomas image series\n",
    "years_for_one_change = np.arange(0,len(intBandNames)-1).tolist()#\n",
    "years_for_two_change = np.arange(0,len(intBandNames)-2).tolist()#\n",
    "years_for_three_change = np.arange(0,len(intBandNames)-3).tolist()#\n",
    "\n",
    "states_lc_no_change = ee.ImageCollection(ee.List(years_for_one_change).map(lc_no_change)).toBands()\n",
    "states_lc_no_change = states_lc_no_change.select(states_lc_no_change.bandNames(),intBandNames[0:len(intBandNames)-1])\n",
    "\n",
    "states_lc_one_change = ee.ImageCollection(ee.List(years_for_one_change).map(lc_one_change)).toBands()\n",
    "states_lc_one_change = states_lc_one_change.select(states_lc_one_change.bandNames(),intBandNames[0:len(intBandNames)-1])\n",
    "\n",
    "states_lc_reverse = ee.ImageCollection(ee.List(years_for_two_change).map(lc_reverse)).toBands()\n",
    "states_lc_reverse = states_lc_reverse.select(states_lc_reverse.bandNames(),intBandNames[0:len(intBandNames)-2])\n",
    "\n",
    "states_lc_change_to_another = ee.ImageCollection(ee.List(years_for_two_change).map(lc_change_to_another)).toBands()\n",
    "states_lc_change_to_another = states_lc_change_to_another.select(states_lc_change_to_another.bandNames(),intBandNames[0:len(intBandNames)-2])\n",
    "\n",
    "states_lc_consistent_change_one_year = ee.ImageCollection(ee.List(years_for_two_change).map(lc_consistent_change_one_year)).toBands()\n",
    "states_lc_consistent_change_one_year = states_lc_consistent_change_one_year.select(states_lc_consistent_change_one_year.bandNames(),intBandNames[0:len(intBandNames)-2])\n",
    "\n",
    "states_lc_consistent_change_two_years = ee.ImageCollection(ee.List(years_for_three_change).map(lc_consistent_change_two_years)).toBands()\n",
    "states_lc_consistent_change_two_years = states_lc_consistent_change_two_years.select(states_lc_consistent_change_two_years.bandNames(),intBandNames[0:len(intBandNames)-3])\n",
    "\n"
   ]
  },
  {
   "cell_type": "code",
   "execution_count": 8,
   "metadata": {},
   "outputs": [],
   "source": [
    "#Get mask of when tiles had no change\n",
    "change_occured = states_lc_one_change.reduce(ee.Reducer.max())\n"
   ]
  },
  {
   "cell_type": "code",
   "execution_count": 9,
   "metadata": {},
   "outputs": [
    {
     "data": {
      "application/vnd.jupyter.widget-view+json": {
       "model_id": "6aa4d37121fa495d8b20f514bcfe12e3",
       "version_major": 2,
       "version_minor": 0
      },
      "text/plain": [
       "Map(center=[-9, -51], controls=(ZoomControl(options=['position', 'zoom_in_text', 'zoom_in_title', 'zoom_out_te…"
      ]
     },
     "metadata": {},
     "output_type": "display_data"
    }
   ],
   "source": [
    "m_change_detection = Map(zoom=4, center=(-9, -51))\n",
    "\n",
    "m_change_detection.add_layer(TileLayer(states_lc_consistent_change_two_years.select('2015').visualize(**changeDetectionViz), name='One Change'))\n",
    "#m.add_layer(TileLayer(states_simple.select('classification_2018').visualize(**simpleStatesViz), name='Simplified MapBiomas'))\n",
    "\n",
    "display(m_change_detection)\n",
    "#Pink is no change\n",
    "#Blue is change"
   ]
  },
  {
   "cell_type": "code",
   "execution_count": 10,
   "metadata": {},
   "outputs": [
    {
     "name": "stdout",
     "output_type": "stream",
     "text": [
      "{'type': 'Image', 'bands': [{'id': 'max', 'data_type': {'type': 'PixelType', 'precision': 'int', 'min': 0, 'max': 1}, 'crs': 'EPSG:4326', 'crs_transform': [1.0, 0.0, 0.0, 0.0, 1.0, 0.0]}]}\n"
     ]
    },
    {
     "data": {
      "application/vnd.jupyter.widget-view+json": {
       "model_id": "c671d265643b435aa34ef809ccc2766b",
       "version_major": 2,
       "version_minor": 0
      },
      "text/plain": [
       "Map(center=[-9, -51], controls=(ZoomControl(options=['position', 'zoom_in_text', 'zoom_in_title', 'zoom_out_te…"
      ]
     },
     "metadata": {},
     "output_type": "display_data"
    }
   ],
   "source": [
    "#Sample points in Brazil\n",
    "\n",
    "Brazil_adm1 = ee.FeatureCollection('users/listerkristineanne/DynamicWorld/ChangeDetection/MapBiomas/Brazil_adm1')\n",
    "#print(Brazil_adm1.aggregate_array('NAME_1').getInfo())\n",
    "\n",
    "\n",
    "consistent_change_occurred = states_lc_consistent_change_two_years.reduce(ee.Reducer.max())\n",
    "\n",
    "\n",
    "print(consistent_change_occurred.getInfo())\n",
    "m_change_detection2 = Map(zoom=4, center=(-9, -51))\n",
    "\n",
    "m_change_detection2.add_layer(TileLayer(consistent_change_occurred.visualize(**changeDetectionViz), name='One Change'))\n",
    "\n",
    "display(m_change_detection2)\n",
    "#Pink is no change\n",
    "#Blue is change\n",
    "\n",
    "def feature_calc(feature):\n",
    "    feature = ee.Feature(feature)\n",
    "    meanDictionary = consistent_change_occurred.reduceRegion(\n",
    "      reducer= ee.Reducer.sum().unweighted(),\n",
    "      geometry= feature.geometry(),\n",
    "      scale= 30,\n",
    "      maxPixels= 1e13)\n",
    "    return ee.Feature(None,meanDictionary)\n",
    "\n",
    "results = Brazil_adm1.map(feature_calc)\n",
    "\n",
    "export_results_task2 = ee.batch.Export.table.toDrive(\n",
    "    collection=results, \n",
    "    description = \"Sum results\", \n",
    "    fileNamePrefix = 'SumResults')\n",
    "\n",
    "export_results_task2.start()\n",
    "\n"
   ]
  },
  {
   "cell_type": "code",
   "execution_count": 11,
   "metadata": {},
   "outputs": [
    {
     "data": {
      "application/vnd.jupyter.widget-view+json": {
       "model_id": "92113ebeb3d04354b25c17bf5ace2fba",
       "version_major": 2,
       "version_minor": 0
      },
      "text/plain": [
       "Map(center=[-9, -51], controls=(ZoomControl(options=['position', 'zoom_in_text', 'zoom_in_title', 'zoom_out_te…"
      ]
     },
     "metadata": {},
     "output_type": "display_data"
    }
   ],
   "source": [
    "consistent_change_occurred_masked = consistent_change_occurred.add(1)\n",
    "consistent_change_occurred_masked = consistent_change_occurred_masked.updateMask(change_occured)\n",
    "\n",
    "\n",
    "m_change_detection3 = Map(zoom=4, center=(-9, -51))\n",
    "\n",
    "\n",
    "change_detection_palette = ['df07b5','0741df']\n",
    "changeDetectionViz = {'min': 1, 'max': 2, 'palette': change_detection_palette};\n",
    "\n",
    "\n",
    "m_change_detection3.add_layer(TileLayer(consistent_change_occurred_masked.visualize(**changeDetectionViz), name='One Change'))\n",
    "\n",
    "display(m_change_detection3)\n"
   ]
  },
  {
   "cell_type": "code",
   "execution_count": 13,
   "metadata": {},
   "outputs": [],
   "source": [
    "# Get neighborhood values for stratified random sample\n",
    "\n",
    "def getSampleBandPoints(image, region, **kwargs):\n",
    "    dargs = {\n",
    "        'numPoints':100,\n",
    "        'region':region,\n",
    "        'classValues':[0,1], \n",
    "        'classPoints':[0,100],\n",
    "        'seed':794274,\n",
    "        'geometries':True,\n",
    "        'scale': image.projection().nominalScale()\n",
    "    }\n",
    "    dargs.update(kwargs)\n",
    "    bandSamples = image.bandNames().map(lambda b:\n",
    "        image.select(ee.String(b)).stratifiedSample(\n",
    "            **dargs),\n",
    "        )\n",
    "    return bandSamples\n",
    "\n",
    "\n",
    "\n",
    "def getSampleBandData(image, sampleBandPoints):\n",
    "    idxIter = ee.List.sequence(0, count=sampleBandPoints.length())\n",
    "    sampleBandData = idxIter.map(lambda i:\n",
    "        image.select(ee.Number(i)).reproject(image.projection()).reduceRegions(\n",
    "            collection=sampleBandPoints.get(ee.Number(i)),\n",
    "            reducer=ee.Reducer.first(),\n",
    "            scale = image.projection().nominalScale()\n",
    "        ))\n",
    "    return sampleBandDataToList(sampleBandData)\n",
    "\n",
    "def get_point_coordinates(sampleBandPoints):\n",
    "    return ee.FeatureCollection(sampleBandPoints).flatten().geometry().coordinates().getInfo()\n",
    "    \n",
    "    \n",
    "def sampleBandDataToList(sampleData):\n",
    "    return ee.FeatureCollection(sampleData).flatten().aggregate_array('first')\n",
    "\n",
    "\n",
    "sample_points = getSampleBandPoints(consistent_change_occurred_masked, Brazil_adm1.geometry(),classValues=[1,2],classPoints=[200,200])\n"
   ]
  },
  {
   "cell_type": "code",
   "execution_count": 24,
   "metadata": {},
   "outputs": [
    {
     "name": "stdout",
     "output_type": "stream",
     "text": [
      "[{'type': 'FeatureCollection', 'columns': {'latitude_209564535': '<any>', 'longitude_209564535': '<any>', 'max': 'Byte<1, 2>'}, 'properties': {'band_order': ['max']}}]\n",
      "{'type': 'Image', 'bands': [{'id': 'constant', 'data_type': {'type': 'PixelType', 'precision': 'int', 'min': 0, 'max': 255}, 'crs': 'EPSG:4326', 'crs_transform': [1.0, 0.0, 0.0, 0.0, 1.0, 0.0]}]}\n"
     ]
    }
   ],
   "source": [
    "m_change_detection4 = Map(zoom=4, center=(-9, -51))\n",
    "\n",
    "\n",
    "change_detection_palette = ['df07b5','0741df']\n",
    "changeDetectionViz = {'min': 1, 'max': 2, 'palette': change_detection_palette};\n",
    "print(sample_points.getInfo())\n",
    "sample_points_image = ee.Image().paint(**{\n",
    "    'featureCollection': sample_points,\n",
    "    'color': 0,\n",
    "    'width': 3\n",
    "})\n",
    "print(sample_points_image.getInfo())\n",
    "# sample_points_palette = ['0cf910']\n",
    "# sample_points_Viz = {'min': 1, 'max': 1, 'palette': sample_points_palette};\n",
    "\n",
    "\n",
    "# m_change_detection4.add_layer(TileLayer(consistent_change_occurred_masked.visualize(**changeDetectionViz), name='One Change'))\n",
    "# m_change_detection4.add_layer(TileLayer(sample_points_image.visualize(**sample_points_Viz), name='Sample Points'))\n",
    "\n",
    "# display(m_change_detection4)\n"
   ]
  },
  {
   "cell_type": "code",
   "execution_count": null,
   "metadata": {},
   "outputs": [],
   "source": [
    "full_res = {}\n",
    "\n",
    "coords = ee.Dictionary({'coordinates':get_point_coordinates(sample_points)}).getInfo()\n",
    "\n",
    "full_res.update(coords)\n",
    "\n",
    "for i in years_for_three_change:\n",
    "    bandName = intBandNames[i]\n",
    "    res = ee.Dictionary({\n",
    "    'one_change_'+bandName: getSampleBandData(states_lc_one_change.select([bandName]), sample_points),\n",
    "    #'reverse_change_'+bandName: getSampleBandData(states_lc_reverse.select([bandName]), sample_points),\n",
    "    #'change_to_another_'+bandName: getSampleBandData(states_lc_change_to_another.select([bandName]), sample_points),\n",
    "    #'consistent_change_one_year_'+bandName: getSampleBandData(states_lc_consistent_change_one_year.select([bandName]), sample_points),\n",
    "    'consistent_change_two_years_'+bandName: getSampleBandData(states_lc_consistent_change_two_years.select([bandName]), sample_points),\n",
    "    }).getInfo()\n",
    "    full_res.update(res)\n",
    "\n",
    "# res = ee.Dictionary({\n",
    "#     'one_change': getSampleBandData(states_lc_one_change, sample_points),\n",
    "#     'reverse_change': getSampleBandData(states_lc_reverse, sample_points),\n",
    "#     'change_to_another': getSampleBandData(states_lc_change_to_another, sample_points),\n",
    "#     'consistent_change_one_year': getSampleBandData(states_lc_consistent_change_one_year, sample_points),\n",
    "#     'consistent_change_two_years': getSampleBandData(states_lc_consistent_change_two_years, sample_points),\n",
    "# }).getInfo()\n",
    "#ordered = ['one_change', 'reverse_change', 'change_to_another', 'consistent_change_one_year','consistent_change_two_years']\n",
    "ordered = ['one_change','consistent_change_two_years']\n",
    "results_df = pd.DataFrame(full_res)\n",
    "\n",
    "results_df.to_csv('/Users/kristine/Downloads/NewSampledPoints.csv')\n"
   ]
  },
  {
   "cell_type": "code",
   "execution_count": null,
   "metadata": {},
   "outputs": [],
   "source": [
    "results_df"
   ]
  },
  {
   "cell_type": "code",
   "execution_count": null,
   "metadata": {},
   "outputs": [],
   "source": [
    "results_df.to_csv('/Users/kristine/Downloads/NewSampledPoints.csv')\n"
   ]
  },
  {
   "cell_type": "code",
   "execution_count": null,
   "metadata": {},
   "outputs": [],
   "source": [
    "def convert_wideform_to_longform(in_df,years,id_column = 'one_change'):\n",
    "    for i,year in enumerate(years):\n",
    "        match_columns = [x for x in list(in_df) if str(year) in x]\n",
    "        "
   ]
  },
  {
   "cell_type": "code",
   "execution_count": null,
   "metadata": {},
   "outputs": [],
   "source": []
  },
  {
   "cell_type": "code",
   "execution_count": null,
   "metadata": {},
   "outputs": [],
   "source": [
    "# sampled_points = consistent_change_occurred.stratifiedSample(\n",
    "#                 numPoints=500,\n",
    "#                 region=Brazil_adm1.geometry(),\n",
    "#                 seed=num_seed,\n",
    "#                 scale = consistent_change_occurred.projection().nominalScale(),\n",
    "#                 geometries=True)\n",
    "\n",
    "# print(sampled_points.size().getInfo())\n",
    "\n",
    "# sampled_points = states_lc_one_change.reduceRegions(sampled_points, ee.Reducer.first());\n",
    "\n",
    "# sample_points_task = ee.batch.Export.table.toDrive(\n",
    "#     collection = sampled_points, \n",
    "#     description = \"Sampled Points\", \n",
    "#     fileNamePrefix = 'SamplePoints')\n",
    "\n",
    "# sample_points_task.start()"
   ]
  },
  {
   "cell_type": "code",
   "execution_count": null,
   "metadata": {},
   "outputs": [],
   "source": [
    "# #Read in sampled points from file downloaded from google drive\n",
    "# df = pd.read_csv('/Users/kristine/Downloads/SamplePoints.csv')\n",
    "# df = df[['max','.geo']]\n",
    "# df.columns = ['max','coordinates']\n",
    "\n",
    "# for i,row in df.iterrows():\n",
    "#     df.at[i,'coordinates']  = json.loads(row['coordinates']).get('coordinates')\n",
    "# print(df)\n",
    "\n",
    "#convert to feature collection"
   ]
  },
  {
   "cell_type": "code",
   "execution_count": null,
   "metadata": {},
   "outputs": [],
   "source": [
    "#print(sampled_points.geometry().coordinates().getInfo())"
   ]
  },
  {
   "cell_type": "code",
   "execution_count": null,
   "metadata": {},
   "outputs": [],
   "source": []
  },
  {
   "cell_type": "code",
   "execution_count": null,
   "metadata": {},
   "outputs": [],
   "source": []
  },
  {
   "cell_type": "code",
   "execution_count": null,
   "metadata": {},
   "outputs": [],
   "source": []
  },
  {
   "cell_type": "code",
   "execution_count": null,
   "metadata": {},
   "outputs": [],
   "source": []
  }
 ],
 "metadata": {
  "kernelspec": {
   "display_name": "Python 3",
   "language": "python",
   "name": "python3"
  },
  "language_info": {
   "codemirror_mode": {
    "name": "ipython",
    "version": 3
   },
   "file_extension": ".py",
   "mimetype": "text/x-python",
   "name": "python",
   "nbconvert_exporter": "python",
   "pygments_lexer": "ipython3",
   "version": "3.6.8"
  }
 },
 "nbformat": 4,
 "nbformat_minor": 2
}
