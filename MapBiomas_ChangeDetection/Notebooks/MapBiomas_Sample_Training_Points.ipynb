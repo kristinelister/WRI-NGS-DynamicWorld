{
 "cells": [
  {
   "cell_type": "code",
   "execution_count": 1,
   "metadata": {},
   "outputs": [],
   "source": [
    "import os\n",
    "import ee\n",
    "import geemap\n",
    "import ipyleaflet\n",
    "import matplotlib.pyplot as plt\n",
    "import numpy as np\n",
    "import sklearn\n",
    "import statsmodels.api as sm\n",
    "import pandas as pd\n",
    "from IPython.display import HTML, display\n",
    "import random\n",
    "import json\n",
    "import time\n",
    "num_seed=30\n",
    "#random.seed(num_seed)"
   ]
  },
  {
   "cell_type": "code",
   "execution_count": 2,
   "metadata": {},
   "outputs": [],
   "source": [
    "ee.Initialize()\n"
   ]
  },
  {
   "cell_type": "code",
   "execution_count": 3,
   "metadata": {},
   "outputs": [
    {
     "data": {
      "application/vnd.jupyter.widget-view+json": {
       "model_id": "bbfbfbdf68274754a604d634b4261cd9",
       "version_major": 2,
       "version_minor": 0
      },
      "text/plain": [
       "Map(center=[-9, -51], controls=(WidgetControl(options=['position'], widget=HBox(children=(ToggleButton(value=F…"
      ]
     },
     "metadata": {},
     "output_type": "display_data"
    }
   ],
   "source": [
    "#Define functions for mapping MapBiomas and simplifying the legend\n",
    "coverage_palette =  ['ffffff', '129912', '1f4423', '006400', '00ff00', '687537', '76a5af', '29eee4', \n",
    "                     '77a605', '935132', 'bbfcac', '45c2a5', 'b8af4f', 'f1c232', 'ffffb2', 'ffd966', \n",
    "                     'f6b26b', 'f99f40', 'e974ed', 'd5a6bd', 'c27ba0', 'fff3bf', 'ea9999', 'dd7e6b', \n",
    "                     'aa0000', 'ff99ff', '0000ff', 'd5d5e5', 'dd497f', 'b2ae7c', 'af2a2a', '8a2be2', \n",
    "                     '968c46', '0000ff', '4fd3ff']\n",
    "\n",
    "\n",
    "simple_palette = ['129912','BBFCAC','FFFFB2','EA9999','0000FF','D5D5E5']\n",
    "statesViz = {'min': 0, 'max': 34, 'palette': coverage_palette};\n",
    "simpleStatesViz = {'min': 1, 'max': 6, 'palette': simple_palette};\n",
    "\n",
    "change_detection_palette = ['df07b5','0741df']\n",
    "changeDetectionViz = {'min': 0, 'max': 1, 'palette': change_detection_palette};\n",
    "\n",
    "#Load in mapbiomas\n",
    "mapbiomas_states=ee.Image('projects/mapbiomas-workspace/public/collection4_1/mapbiomas_collection41_integration_v1')\n",
    "states_mask = mapbiomas_states.mask()\n",
    "projection_30m = mapbiomas_states.projection()\n",
    "\n",
    "#Define function to convert hierarchical legend to simplest form\n",
    "def simplify_legend(bandName):\n",
    "    simplify = mapbiomas_states.expression(\n",
    "        '(b0 >=1)  && (b0<10) ? 1 :'+\n",
    "        '((b0>=10) && (b0<14)) || (b0==32) || (b0==29) ? 2 :'+\n",
    "        '((b0>=18) && (b0<22)) || ((b0>=14)&&(b0<16)) ? 3 :'+\n",
    "        '((b0>=22) && (b0<26)) || (b0==30) ? 4 :'+\n",
    "        '(b0==26) || (b0==33) || (b0==31) ? 5 : 6', \n",
    "        {\n",
    "          'b0': mapbiomas_states.select([bandName])\n",
    "        })\n",
    "    simplify = simplify.select(['constant'],[bandName])\n",
    "    return simplify\n",
    "\n",
    "#Bands we are interested in\n",
    "bandList = ['classification_1985', 'classification_1986', 'classification_1987', 'classification_1988', \n",
    "             'classification_1989', 'classification_1990', 'classification_1991', 'classification_1992', \n",
    "             'classification_1993', 'classification_1994', 'classification_1995', 'classification_1996', \n",
    "             'classification_1997', 'classification_1998', 'classification_1999', 'classification_2000', \n",
    "             'classification_2001', 'classification_2002', 'classification_2003', 'classification_2004', \n",
    "             'classification_2005', 'classification_2006', 'classification_2007', 'classification_2008', \n",
    "             'classification_2009', 'classification_2010', 'classification_2011', 'classification_2012', \n",
    "             'classification_2013', 'classification_2014', 'classification_2015', 'classification_2016', \n",
    "             'classification_2017', 'classification_2018']\n",
    "bandsEEList = ee.List(bandList) \n",
    "states_simple = ee.ImageCollection(bandsEEList.map(simplify_legend)).toBands()\n",
    "states_simple = states_simple.select(states_simple.bandNames(),bandsEEList)\n",
    "states_simple = states_simple.updateMask(states_mask)\n",
    "\n",
    "#Map\n",
    "Map1 = geemap.Map(center=[-9,-51], zoom=4)\n",
    "Map1.addLayer(mapbiomas_states.select('classification_2018'),statesViz,name='Original MapBiomas')\n",
    "Map1.addLayer(states_simple.select('classification_2018'),simpleStatesViz,name='Simplified MapBiomas')\n",
    "display(Map1)\n"
   ]
  },
  {
   "cell_type": "code",
   "execution_count": 4,
   "metadata": {},
   "outputs": [],
   "source": [
    "#Convert long band names to short band names\n",
    "intBandNames = ['1985', '1986', '1987', '1988', '1989', '1990', '1991', '1992', '1993', '1994', '1995', '1996', \n",
    "             '1997', '1998', '1999', '2000', '2001', '2002', '2003', '2004',  '2005', '2006', '2007', '2008', \n",
    "             '2009', '2010', '2011', '2012','2013', '2014', '2015', '2016', '2017', '2018']\n",
    "\n",
    "int_states_simple = states_simple.select(bandList,intBandNames)\n",
    "\n",
    "def convert_to_image_collection(bandName):\n",
    "    return states_simple.select(bandName)\n"
   ]
  },
  {
   "cell_type": "code",
   "execution_count": 5,
   "metadata": {},
   "outputs": [],
   "source": [
    "#Define functions for finding different types of change in the MapBiomas series\n",
    "def lc_one_change(bandName):\n",
    "    '''\n",
    "    Determines if there was one change occurance from year i to year i+1. Returns an image with values:\n",
    "    1 if state(i) != state(i+1)\n",
    "    0 if state(i) == state(i+1)\n",
    "    '''\n",
    "    currentYear = ee.Number(bandName)\n",
    "    nextYear = currentYear.add(ee.Number(1))\n",
    "    currentYearString = ee.List(intBandNames).get(currentYear)\n",
    "    nextYearString = ee.List(intBandNames).get(nextYear)\n",
    "    return int_states_simple.select([currentYearString]).neq(int_states_simple.select([nextYearString]))\n",
    "\n",
    "def lc_consistent_change_one_year(bandName):\n",
    "    '''\n",
    "    Determines if change that occured from i to i+1 stayed in i+2\n",
    "    1 if state(i) != state(i+1) and state(i+1) == state(i+2)\n",
    "    0 otherwise\n",
    "    '''\n",
    "    currentYear = ee.Number(bandName)\n",
    "    nextYear = currentYear.add(ee.Number(1))\n",
    "    nextNextYear = currentYear.add(ee.Number(2))\n",
    "    \n",
    "    currentYearString = ee.List(intBandNames).get(currentYear)\n",
    "    nextYearString = ee.List(intBandNames).get(nextYear)\n",
    "    nextNextYearString = ee.List(intBandNames).get(nextNextYear)\n",
    "    \n",
    "    changed = int_states_simple.select([currentYearString]).neq(int_states_simple.select([nextYearString]))\n",
    "    stayed = int_states_simple.select([nextYearString]).eq(int_states_simple.select([nextNextYearString]))\n",
    "    lc_consistently_changed = changed.bitwise_and(stayed)\n",
    "    return lc_consistently_changed\n",
    "\n",
    "def lc_consistent_change_two_years(bandName):\n",
    "    '''\n",
    "    Determines if change that occured from i to i+1 stayed in i+2 and i+3\n",
    "    1 if state(i) != state(i+1) and state(i+1) == state(i+2) and state(i+1) == state(i+3)\n",
    "    0 otherwise\n",
    "    '''\n",
    "    currentYear = ee.Number(bandName)\n",
    "    nextYear = currentYear.add(ee.Number(1))\n",
    "    nextNextYear = currentYear.add(ee.Number(2))\n",
    "    nextNextNextYear = currentYear.add(ee.Number(3))\n",
    "    \n",
    "    currentYearString = ee.List(intBandNames).get(currentYear)\n",
    "    nextYearString = ee.List(intBandNames).get(nextYear)\n",
    "    nextNextYearString = ee.List(intBandNames).get(nextNextYear)\n",
    "    nextNextNextYearString = ee.List(intBandNames).get(nextNextNextYear)\n",
    "    \n",
    "    changed = int_states_simple.select([currentYearString]).neq(int_states_simple.select([nextYearString]))\n",
    "    stayed_one_year = int_states_simple.select([nextYearString]).eq(int_states_simple.select([nextNextYearString]))\n",
    "    stayed_two_year = int_states_simple.select([nextYearString]).eq(int_states_simple.select([nextNextNextYearString]))\n",
    "    lc_consistently_changed = changed.bitwise_and(stayed_one_year.bitwise_and(stayed_two_year))\n",
    "    return lc_consistently_changed\n"
   ]
  },
  {
   "cell_type": "code",
   "execution_count": 6,
   "metadata": {},
   "outputs": [],
   "source": [
    "#Apply functions to MapBiomas image series\n",
    "years_for_one_change = np.arange(0,len(intBandNames)-1).tolist()#\n",
    "years_for_two_change = np.arange(0,len(intBandNames)-2).tolist()#\n",
    "years_for_three_change = np.arange(0,len(intBandNames)-3).tolist()#\n",
    "\n",
    "states_lc_one_change = ee.ImageCollection(ee.List(years_for_one_change).map(lc_one_change)).toBands()\n",
    "states_lc_one_change = states_lc_one_change.select(states_lc_one_change.bandNames(),intBandNames[0:len(intBandNames)-1])\n",
    "\n",
    "# states_lc_consistent_change_one_year = ee.ImageCollection(ee.List(years_for_two_change).map(lc_consistent_change_one_year)).toBands()\n",
    "# states_lc_consistent_change_one_year = states_lc_consistent_change_one_year.select(states_lc_consistent_change_one_year.bandNames(),intBandNames[0:len(intBandNames)-2])\n",
    "\n",
    "states_lc_consistent_change_two_years = ee.ImageCollection(ee.List(years_for_three_change).map(lc_consistent_change_two_years)).toBands()\n",
    "states_lc_consistent_change_two_years = states_lc_consistent_change_two_years.select(states_lc_consistent_change_two_years.bandNames(),intBandNames[0:len(intBandNames)-3])\n",
    "\n"
   ]
  },
  {
   "cell_type": "code",
   "execution_count": 7,
   "metadata": {},
   "outputs": [],
   "source": [
    "#Get mask of when tiles had one change, we only want to sample pixels that had at least one change\n",
    "# i.e. mask pixels that had no change\n",
    "states_lc_one_change_for_mask = states_lc_one_change.select(intBandNames[0:len(intBandNames)-3])\n",
    "#print(intBandNames[0:len(intBandNames)-3])\n",
    "change_occured = states_lc_one_change_for_mask.reduce(ee.Reducer.max())\n"
   ]
  },
  {
   "cell_type": "code",
   "execution_count": 8,
   "metadata": {},
   "outputs": [
    {
     "name": "stdout",
     "output_type": "stream",
     "text": [
      "{'type': 'Image', 'bands': [{'id': 'consistent_change', 'data_type': {'type': 'PixelType', 'precision': 'int', 'min': 1, 'max': 2}, 'crs': 'EPSG:4326', 'crs_transform': [1.0, 0.0, 0.0, 0.0, 1.0, 0.0]}]}\n"
     ]
    },
    {
     "data": {
      "application/vnd.jupyter.widget-view+json": {
       "model_id": "fb8c4aa845754a8f91b418ec475161ec",
       "version_major": 2,
       "version_minor": 0
      },
      "text/plain": [
       "Map(center=[-9, -51], controls=(WidgetControl(options=['position'], widget=HBox(children=(ToggleButton(value=F…"
      ]
     },
     "metadata": {},
     "output_type": "display_data"
    }
   ],
   "source": [
    "#Find pixels that had at least one year of consistent change, add 1 so that 0 can be the mask/no data value\n",
    "consistent_change_occurred = states_lc_consistent_change_two_years.reduce(ee.Reducer.max()).add(1)\n",
    "#Update mask\n",
    "consistent_change_occurred_masked = consistent_change_occurred.updateMask(change_occured)\n",
    "#Rename band from \"max\" from reducer to \"consistent_change\"\n",
    "consistent_change_occurred_masked = consistent_change_occurred_masked.select(['max'],['consistent_change'])\n",
    "#Consistent change raster is now coded:\n",
    "# 0 = no data, change did not occur in this pixel in any year\n",
    "# 1 = no consistent change in this pixel in any year\n",
    "# 2 = at least one year of consistent change occurred in this pixel\n",
    "\n",
    "\n",
    "print(consistent_change_occurred_masked.getInfo())\n",
    "\n",
    "#Define color palettes and map\n",
    "one_change_detection_palette = ['379c4d','04e735']\n",
    "oneChangeDetectionViz = {'min': 0, 'max': 1, 'palette': one_change_detection_palette};\n",
    "\n",
    "consistent_change_detection_palette = ['df07b5','0741df']\n",
    "consistentChangeDetectionViz = {'min': 1, 'max': 2, 'palette': consistent_change_detection_palette};\n",
    "\n",
    "Map2 = geemap.Map(center=[-9,-51], zoom=4)\n",
    "Map2.addLayer(change_occured.updateMask(change_occured),oneChangeDetectionViz,name='One Change')\n",
    "#Light green shows one change occurred, dark green shows no change occurred (now masked so only dark green should show)\n",
    "Map2.addLayer(consistent_change_occurred_masked,consistentChangeDetectionViz,name='Consistent Change')\n",
    "#Pink shows there was not consistent change, blue shows consistent change\n",
    "display(Map2)\n",
    "#Pink is no change\n",
    "#Blue is change\n",
    "\n",
    "#Consistent change raster is now coded:\n",
    "# 0 = no data, change did not occur in this pixel in any year\n",
    "# 1 = no consistent change in this pixel in any year (PINK)\n",
    "# 2 = at least one year of consistent change occurred in this pixel (BLUE)\n",
    "\n"
   ]
  },
  {
   "cell_type": "code",
   "execution_count": 9,
   "metadata": {},
   "outputs": [],
   "source": [
    "\n",
    "#Define function to sample points from image stratified by specified classBand, also returns \n",
    "# latitude and longitude of sampled points\n",
    "def getStratifiedSampleBandPoints(image, region, bandName, **kwargs):\n",
    "    new_image = image.addBands(ee.Image.pixelLonLat().reproject(image.projection()))\n",
    "    dargs = {\n",
    "        'numPoints': 1000,\n",
    "        'classBand': bandName,\n",
    "        'projection': new_image.projection().crs().getInfo(),\n",
    "        'scale': image.projection().nominalScale().getInfo(),\n",
    "        'region': region.geometry()\n",
    "    }\n",
    "    dargs.update(kwargs)\n",
    "    print(dargs)\n",
    "    stratified_sample = new_image.stratifiedSample(**dargs)\n",
    "    return stratified_sample\n",
    "\n",
    "#Function to convert feature collection to pandas dataframe\n",
    "def get_dataframe_from_feature_collection(feature_collection, property_names):\n",
    "    df = pd.DataFrame()\n",
    "    for property_name in property_names:\n",
    "        property_values = feature_collection.aggregate_array(property_name).getInfo()\n",
    "        df[property_name] = property_values\n",
    "    return df\n",
    "\n",
    "#Function to convert pandas dataframe to feature collection\n",
    "def convert_points_df_to_feature_collection(df,projection='EPSG:4326',lat_name='latitude',lon_name='longitude'):\n",
    "    feature_collection_list = []\n",
    "    for i,row in df.iterrows():\n",
    "        geometry = ee.Geometry.Point([row[lon_name],row[lat_name]],projection)\n",
    "        row_dict = row.to_dict()\n",
    "        row_feature = ee.Feature(geometry,row_dict)\n",
    "        feature_collection_list.append(row_feature)\n",
    "    return ee.FeatureCollection(feature_collection_list)\n",
    "\n",
    "\n",
    "def sampleBandDataToList(sampleData):\n",
    "    return ee.FeatureCollection(sampleData).flatten().aggregate_array('first')\n",
    "\n",
    "def getSampleImageData(image, sampleBandPoints):\n",
    "    sampleImageData = image.reduceRegions(\n",
    "            collection=sampleBandPoints,\n",
    "            reducer=ee.Reducer.first()\n",
    "            )\n",
    "    return sampleImageData.aggregate_array('first')\n",
    "\n",
    "\n",
    "\n",
    "def convert_feature_collection_to_list(feature_collection):\n",
    "    return feature_collection.toList(feature_collection.size().getInfo())\n",
    "\n",
    "\n",
    "\n"
   ]
  },
  {
   "cell_type": "code",
   "execution_count": 11,
   "metadata": {},
   "outputs": [
    {
     "name": "stdout",
     "output_type": "stream",
     "text": [
      "{'numPoints': 10000, 'classBand': 'consistent_change', 'projection': 'EPSG:4326', 'scale': 29.999999999999996, 'region': <ee.geometry.Geometry object at 0x12985a160>}\n"
     ]
    }
   ],
   "source": [
    "#Load in feature collection to sample over\n",
    "Brazil_adm1 = ee.FeatureCollection('users/listerkristineanne/DynamicWorld/ChangeDetection/MapBiomas/Brazil_adm1')\n",
    "Brazil_adm0 = ee.FeatureCollection('users/listerkristineanne/DynamicWorld/ChangeDetection/MapBiomas/Brazil_adm0')\n",
    "\n",
    "#selected_adm1 = Brazil_adm1.filterMetadata('GID_1','equals','BRA.12_1')\n",
    "#Reproject consistent change image to the original projection, Earth Engine will not force this calculation\n",
    "#until we do so\n",
    "consistent_change_occurred_masked_reprj = consistent_change_occurred_masked.reproject(mapbiomas_states.projection())\n",
    "\n",
    "#Sample points\n",
    "sample_points = getStratifiedSampleBandPoints(consistent_change_occurred_masked_reprj,Brazil_adm0,\n",
    "                                     'consistent_change',numPoints=10000)\n"
   ]
  },
  {
   "cell_type": "code",
   "execution_count": 12,
   "metadata": {},
   "outputs": [
    {
     "name": "stdout",
     "output_type": "stream",
     "text": [
      "<Task EXPORT_FEATURES: SamplePoints_10K (UNSUBMITTED)>\n"
     ]
    }
   ],
   "source": [
    "##At higher resolution, the calculation times out to print to the client side,\n",
    "##So we will export it the google drive of the current user\n",
    "export_sample_points_task = ee.batch.Export.table.toDrive(\n",
    "    collection=sample_points, \n",
    "    description = \"SamplePoints_10K\", \n",
    "    fileNamePrefix = 'SamplePoints_10K')\n",
    "\n",
    "export_sample_points_task.start()\n",
    "print(export_sample_points_task)\n"
   ]
  },
  {
   "cell_type": "markdown",
   "metadata": {},
   "source": [
    "Once task export is complete, download csv from google drive to pull in below"
   ]
  },
  {
   "cell_type": "code",
   "execution_count": null,
   "metadata": {
    "scrolled": false
   },
   "outputs": [],
   "source": [
    "\n",
    "training_points = pd.read_csv('/Users/kristine/Downloads/Sample_Points_1000.csv')\n",
    "columns_to_remove = ['system:index','.geo']\n",
    "columns_to_keep = [x for x in list(training_points) if x not in columns_to_remove]\n",
    "training_points = training_points[columns_to_keep]\n",
    "training_points_fc = convert_points_df_to_feature_collection(training_points)\n",
    "#Map results\n",
    "consistent_change_detection_palette = ['df07b5','0741df']\n",
    "consistentChangeDetectionViz = {'min': 1, 'max': 2, 'palette': consistent_change_detection_palette};\n",
    "Map3 = geemap.Map(center=[-9,-51], zoom=4)\n",
    "Map3.addLayer(consistent_change_occurred_masked,consistentChangeDetectionViz,name='Consistent Change')\n",
    "Map3.addLayer(training_points_fc,name='Sampled Points')\n",
    "#Pink shows there was not consistent change, blue shows consistent change\n",
    "display(Map3)\n"
   ]
  },
  {
   "cell_type": "code",
   "execution_count": null,
   "metadata": {},
   "outputs": [],
   "source": [
    "full_res = {}\n",
    "\n",
    "for i in years_for_three_change:\n",
    "    bandName = intBandNames[i]\n",
    "    res = ee.Dictionary({\n",
    "    'one_change_'+bandName: getSampleImageData(states_lc_one_change.select([bandName]).reproject(projection_30m), training_points_fc),\n",
    "    'consistent_change_two_years_'+bandName: getSampleImageData(states_lc_consistent_change_two_years.select([bandName]).reproject(projection_30m), training_points_fc),\n",
    "    }).getInfo()\n",
    "    full_res.update(res)\n",
    "    \n",
    "ordered = ['one_change','consistent_change_two_years']\n",
    "\n",
    "\n",
    "band_sample_df = pd.DataFrame(full_res)\n",
    "band_sample_df\n"
   ]
  },
  {
   "cell_type": "code",
   "execution_count": null,
   "metadata": {},
   "outputs": [],
   "source": [
    "\n",
    "def get_years_of_consistent_change(df,column_names,years):\n",
    "    for column_name in column_names:\n",
    "        df[column_name] = ''\n",
    "        match_columns = [x for x in list(df) if column_name in x]\n",
    "        for i,row in df.iterrows():\n",
    "            row = row[match_columns]\n",
    "            positive_columns = [x for x in match_columns if row[x]==1]\n",
    "            if len(positive_columns) == 0:\n",
    "                df.at[i,column_name] = None\n",
    "            else:\n",
    "                years_of_change = [x for x in years if str(x) in str(positive_columns)]\n",
    "                years_of_change = ' '.join([str(item) for item in years_of_change])\n",
    "                df.at[i,column_name] = years_of_change\n",
    "            \n",
    "    return df\n",
    "\n",
    "year_names = [intBandNames[x] for x in years_for_three_change]\n",
    "collapsed_df = get_years_of_consistent_change(band_sample_df,ordered,year_names)\n",
    "collapsed_df = collapsed_df[ordered]\n",
    "merged_collapsed_df = pd.concat([training_points,collapsed_df],axis=1)\n",
    "merged_collapsed_df.to_csv('/Users/kristine/Downloads/NewSampledPoints_wide.csv',index=False)\n",
    "merged_collapsed_df"
   ]
  },
  {
   "cell_type": "code",
   "execution_count": null,
   "metadata": {},
   "outputs": [],
   "source": [
    "start_time = time.time()\n",
    "#out_df = pd.DataFrame(columns=['consistent_change','year','latitude','longitude'])\n",
    "#Pull a random year\n",
    "out_df = merged_collapsed_df.copy()\n",
    "for i,row in out_df.iterrows():\n",
    "    #print(row)\n",
    "    if row['consistent_change_two_years'] is not None:\n",
    "        out_df.at[i,'consistent_change'] = 1\n",
    "        years = row['consistent_change_two_years'].split(' ')\n",
    "        out_df.at[i,'year'] = random.choice(years)\n",
    "            \n",
    "    else:\n",
    "        out_df.at[i,'consistent_change'] = 0\n",
    "        years = row['one_change'].split(' ')\n",
    "        out_df.at[i,'year'] = random.choice(years)\n",
    "\n",
    "out_df = out_df[['consistent_change','latitude','longitude','year']]\n",
    "end_time = time.time()\n",
    "print(end_time-start_time)\n",
    "out_df"
   ]
  },
  {
   "cell_type": "code",
   "execution_count": null,
   "metadata": {},
   "outputs": [],
   "source": [
    "out_df.to_csv('/Users/kristine/Downloads/NewSampledPoints_wchange.csv',index=False)\n"
   ]
  },
  {
   "cell_type": "code",
   "execution_count": null,
   "metadata": {},
   "outputs": [],
   "source": [
    "#In the neighborhood:\n",
    "#How many pixels changed\n",
    "#How many changed back\n",
    "#diversity of categories of the neighborhood\n",
    "\n",
    "#imagery?"
   ]
  },
  {
   "cell_type": "code",
   "execution_count": null,
   "metadata": {},
   "outputs": [],
   "source": []
  }
 ],
 "metadata": {
  "kernelspec": {
   "display_name": "Python 3",
   "language": "python",
   "name": "python3"
  },
  "language_info": {
   "codemirror_mode": {
    "name": "ipython",
    "version": 3
   },
   "file_extension": ".py",
   "mimetype": "text/x-python",
   "name": "python",
   "nbconvert_exporter": "python",
   "pygments_lexer": "ipython3",
   "version": "3.6.8"
  }
 },
 "nbformat": 4,
 "nbformat_minor": 2
}
